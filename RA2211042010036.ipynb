{
  "nbformat": 4,
  "nbformat_minor": 0,
  "metadata": {
    "colab": {
      "provenance": [],
      "authorship_tag": "ABX9TyNKbis0lAAwSYmdfnszkJY7",
      "include_colab_link": true
    },
    "kernelspec": {
      "name": "python3",
      "display_name": "Python 3"
    },
    "language_info": {
      "name": "python"
    }
  },
  "cells": [
    {
      "cell_type": "markdown",
      "metadata": {
        "id": "view-in-github",
        "colab_type": "text"
      },
      "source": [
        "<a href=\"https://colab.research.google.com/github/Lohith0014/GoogleColab-21CSS101J/blob/main/RA2211042010036.ipynb\" target=\"_parent\"><img src=\"https://colab.research.google.com/assets/colab-badge.svg\" alt=\"Open In Colab\"/></a>"
      ]
    },
    {
      "cell_type": "code",
      "execution_count": 1,
      "metadata": {
        "colab": {
          "base_uri": "https://localhost:8080/"
        },
        "id": "Ho54JeQyIf8k",
        "outputId": "826abf25-d285-4cac-d2be-dd16a9cf4309"
      },
      "outputs": [
        {
          "output_type": "stream",
          "name": "stdout",
          "text": [
            "70\n",
            "a+b\n",
            "-30\n",
            "a-b\n",
            "1000\n",
            "a*b\n",
            "0.4\n",
            "a/b\n"
          ]
        }
      ],
      "source": [
        "a=20\n",
        "b=50\n",
        "print(a+b)\n",
        "print(\"a+b\")\n",
        "print(a-b)\n",
        "print(\"a-b\")\n",
        "print(a*b)\n",
        "print(\"a*b\")\n",
        "print(a/b)\n",
        "print(\"a/b\")"
      ]
    },
    {
      "cell_type": "code",
      "source": [
        "print(\"RA2211042010036\")\n",
        "print(\"Hello world\")"
      ],
      "metadata": {
        "colab": {
          "base_uri": "https://localhost:8080/"
        },
        "id": "JU-q92CZLgyZ",
        "outputId": "e7b4b51c-62a9-4855-fb12-11ed86931652"
      },
      "execution_count": 2,
      "outputs": [
        {
          "output_type": "stream",
          "name": "stdout",
          "text": [
            "RA2211042010036\n",
            "Hello world\n"
          ]
        }
      ]
    },
    {
      "cell_type": "code",
      "source": [
        "print(\"RA2211042010036\")\n",
        "num1 = int(input(\"enter 1st number: \"))\n",
        "num2 = int(input(\"enter 2nd number: \"))\n",
        "sum = num1+num2\n",
        "print(\"sum is\",sum)"
      ],
      "metadata": {
        "colab": {
          "base_uri": "https://localhost:8080/"
        },
        "id": "VzH8OGPbMXwE",
        "outputId": "8842cfa6-86b2-460e-c985-d4ea27a0b3a8"
      },
      "execution_count": 3,
      "outputs": [
        {
          "output_type": "stream",
          "name": "stdout",
          "text": [
            "RA2211042010036\n",
            "enter 1st number: 21\n",
            "enter 2nd number: 50\n",
            "sum is 71\n"
          ]
        }
      ]
    },
    {
      "cell_type": "code",
      "source": [
        "print(\"RA2211042010036\")\n",
        "num1 = int(input(\"enter 1st number: \"))\n",
        "num2 = int(input(\"enter 2nd number: \"))\n",
        "difference = num1-num2\n",
        "print(\"difference is\",difference)"
      ],
      "metadata": {
        "colab": {
          "base_uri": "https://localhost:8080/"
        },
        "id": "F8inWXTcMqey",
        "outputId": "0e29cdb3-1eb2-4dce-9ad8-f6984cac93bb"
      },
      "execution_count": 4,
      "outputs": [
        {
          "output_type": "stream",
          "name": "stdout",
          "text": [
            "RA2211042010036\n",
            "enter 1st number: 20\n",
            "enter 2nd number: 50\n",
            "difference is -30\n"
          ]
        }
      ]
    },
    {
      "cell_type": "code",
      "source": [
        "print(\"RA2211042010036\")\n",
        "num1 = int(input(\"enter 1st number: \"))\n",
        "num2 = int(input(\"enter 2nd number: \"))\n",
        "product = num1*num2\n",
        "print(\"product is\",product)"
      ],
      "metadata": {
        "colab": {
          "base_uri": "https://localhost:8080/"
        },
        "id": "b9UNZBzhMurD",
        "outputId": "ba9e75e5-1e7c-4321-e97b-01dcd5275381"
      },
      "execution_count": 5,
      "outputs": [
        {
          "output_type": "stream",
          "name": "stdout",
          "text": [
            "RA2211042010036\n",
            "enter 1st number: 20\n",
            "enter 2nd number: 50\n",
            "product is 1000\n"
          ]
        }
      ]
    },
    {
      "cell_type": "code",
      "source": [
        "print(\"RA2211042010036\")\n",
        "num1 = int(input(\"enter 1st number: \"))\n",
        "num2 = int(input(\"enter 2nd number: \"))\n",
        "percentage = num1/num2\n",
        "print(\"pecentage is\",percentage)"
      ],
      "metadata": {
        "colab": {
          "base_uri": "https://localhost:8080/"
        },
        "id": "r__Tjr1kM3Kn",
        "outputId": "c6dd0381-cb5d-4d0c-a9c6-b0176e6f89fb"
      },
      "execution_count": 6,
      "outputs": [
        {
          "output_type": "stream",
          "name": "stdout",
          "text": [
            "RA2211042010036\n",
            "enter 1st number: 20\n",
            "enter 2nd number: 50\n",
            "pecentage is 0.4\n"
          ]
        }
      ]
    },
    {
      "cell_type": "code",
      "source": [
        "def add(num1,num2):\n",
        "  sum=num1+num2\n",
        "  print(sum)\n",
        "  return sum\n",
        "\n",
        "print(\"RA2211042010036\")\n",
        "num1=int(input(\"enter 1st number: \"))\n",
        "num2=int(input(\"enter 2nd number: \"))\n",
        "add(num1,num2)"
      ],
      "metadata": {
        "colab": {
          "base_uri": "https://localhost:8080/"
        },
        "id": "oZy9bxkrM_wL",
        "outputId": "44ebdde5-404d-449a-8311-77a907ba659c"
      },
      "execution_count": 7,
      "outputs": [
        {
          "output_type": "stream",
          "name": "stdout",
          "text": [
            "RA2211042010036\n",
            "enter 1st number: 10\n",
            "enter 2nd number: 20\n",
            "30\n"
          ]
        },
        {
          "output_type": "execute_result",
          "data": {
            "text/plain": [
              "30"
            ]
          },
          "metadata": {},
          "execution_count": 7
        }
      ]
    },
    {
      "cell_type": "code",
      "source": [
        "def sub(num1,num2):\n",
        "  difference=num1-num2\n",
        "  print(difference)\n",
        "\n",
        "print(\"RA2211042010036\")\n",
        "num1=int(input(\"enter 1st number: \"))\n",
        "num2=int(input(\"enter 2nd number: \"))\n",
        "sub(num1,num2)"
      ],
      "metadata": {
        "colab": {
          "base_uri": "https://localhost:8080/"
        },
        "id": "kXj0RTjHPPat",
        "outputId": "408c775f-9312-491a-d2d7-f6780df4be7a"
      },
      "execution_count": 8,
      "outputs": [
        {
          "output_type": "stream",
          "name": "stdout",
          "text": [
            "RA2211042010036\n",
            "enter 1st number: 20\n",
            "enter 2nd number: 10\n",
            "10\n"
          ]
        }
      ]
    },
    {
      "cell_type": "code",
      "source": [
        "def mul(num1,num2):\n",
        "  product=num1*num2\n",
        "  print(product)\n",
        "\n",
        "print(\"RA2211042010036\")\n",
        "num1=int(input(\"enter 1st number: \"))\n",
        "num2=int(input(\"enter 2nd number: \"))\n",
        "mul(num1,num2)"
      ],
      "metadata": {
        "colab": {
          "base_uri": "https://localhost:8080/"
        },
        "id": "RQ3vBqHgPa_4",
        "outputId": "d9b2ad94-9b00-4d83-f13b-535eba3998f7"
      },
      "execution_count": 9,
      "outputs": [
        {
          "output_type": "stream",
          "name": "stdout",
          "text": [
            "RA2211042010036\n",
            "enter 1st number: 20\n",
            "enter 2nd number: 20\n",
            "400\n"
          ]
        }
      ]
    },
    {
      "cell_type": "code",
      "source": [
        "def div(num1,num2):\n",
        "  percentage=num1/num2\n",
        "  print(percentage)\n",
        "\n",
        "print(\"RA2211042010036\")\n",
        "num1=int(input(\"enter 1st number: \"))\n",
        "num2=int(input(\"enter 2nd number: \"))\n",
        "div(num1,num2)"
      ],
      "metadata": {
        "colab": {
          "base_uri": "https://localhost:8080/"
        },
        "id": "m0UomgTHP2w2",
        "outputId": "a18015f5-6cef-47ad-c902-24c729e4cef9"
      },
      "execution_count": 10,
      "outputs": [
        {
          "output_type": "stream",
          "name": "stdout",
          "text": [
            "RA2211042010036\n",
            "enter 1st number: 20\n",
            "enter 2nd number: 20\n",
            "1.0\n"
          ]
        },
        {
          "output_type": "execute_result",
          "data": {
            "text/plain": [
              "1.0"
            ]
          },
          "metadata": {},
          "execution_count": 10
        }
      ]
    },
    {
      "cell_type": "markdown",
      "source": [
        "->>>SIMPLE INTEREST"
      ],
      "metadata": {
        "id": "-2-8Uyi3QCcB"
      }
    },
    {
      "cell_type": "code",
      "source": [
        "print(\"RA2211042010036\")\n",
        "principal = int(input(\"enter principal amount: \"))\n",
        "rate = int(input(\"enter rate of intrest: \"))\n",
        "time = int(input(\"enter no.of years: \"))\n",
        "simple_interest = (principal*rate*time)/100\n",
        "amount = principal+simple_interest\n",
        "print(\"simple interest is\",simple_interest)\n",
        "print(\"amount payable\",amount)"
      ],
      "metadata": {
        "colab": {
          "base_uri": "https://localhost:8080/"
        },
        "id": "PIN05k35QF6J",
        "outputId": "9d63f572-cca5-46e3-f31e-fd6c55777790"
      },
      "execution_count": 11,
      "outputs": [
        {
          "output_type": "stream",
          "name": "stdout",
          "text": [
            "RA2211042010036\n",
            "enter principal amount: 10000\n",
            "enter rate of intrest: 4\n",
            "enter no.of years: 10\n",
            "simple interest is 4000.0\n",
            "amount payable 14000.0\n"
          ]
        }
      ]
    },
    {
      "cell_type": "markdown",
      "source": [
        "->>>SIMPLE CALCULATOR"
      ],
      "metadata": {
        "id": "9CVsz41JQ3bQ"
      }
    },
    {
      "cell_type": "code",
      "source": [
        "print(\"RA2211042010036\")\n",
        "result=0\n",
        "  \n",
        "num1 = float(input(\"enter 1st number: \"))\n",
        "num2 = float(input(\"enter 2nd number: \"))\n",
        "operation = input(\"enter any of the operation(+,-,*,/): \")\n",
        "if operation == \"+\":\n",
        "  result = num1+num2\n",
        "elif operation == \"-\":\n",
        "  result = num1-num2\n",
        "elif operation == \"*\":\n",
        "  result = num1*num2\n",
        "elif operation == \"/\":\n",
        "  result = num1/num2\n",
        "else:\n",
        "  print(\"invalid input\")\n",
        "    \n",
        "print(result)"
      ],
      "metadata": {
        "colab": {
          "base_uri": "https://localhost:8080/"
        },
        "id": "jIKQ3dqhQ7RF",
        "outputId": "c5974555-b1fb-43e0-d651-65304eba8d28"
      },
      "execution_count": 12,
      "outputs": [
        {
          "output_type": "stream",
          "name": "stdout",
          "text": [
            "RA2211042010036\n",
            "enter 1st number: 100\n",
            "enter 2nd number: 200\n",
            "enter any of the operation(+,-,*,/): /\n",
            "0.5\n"
          ]
        }
      ]
    },
    {
      "cell_type": "markdown",
      "source": [
        "->>>AREA OF CIRCLE"
      ],
      "metadata": {
        "id": "zgI5DBvbT-FT"
      }
    },
    {
      "cell_type": "code",
      "source": [
        "print(\"RA2211042010036\")\n",
        "radius=float(input(\"enter the radius: \"))\n",
        "area = 3.14*radius*radius\n",
        "print(\"the area of the circle is \",area,\"units\")"
      ],
      "metadata": {
        "colab": {
          "base_uri": "https://localhost:8080/"
        },
        "id": "VDyyoAGiUB-6",
        "outputId": "36f96064-a891-4705-ca96-e7a98dcdc87b"
      },
      "execution_count": 13,
      "outputs": [
        {
          "output_type": "stream",
          "name": "stdout",
          "text": [
            "RA2211042010036\n",
            "enter the radius: 6\n",
            "the area of the circle is  113.03999999999999 units\n"
          ]
        }
      ]
    },
    {
      "cell_type": "code",
      "source": [
        "print(\"RA2211042010036\")\n",
        "a = 50\n",
        "b = 100\n",
        "if a>b:\n",
        "  print(\"a is greater than b\")\n",
        "elif b>a:\n",
        "  print(\"b is greater than a\")\n",
        "else:\n",
        "  print(\"a is equal to b\")"
      ],
      "metadata": {
        "colab": {
          "base_uri": "https://localhost:8080/"
        },
        "id": "DP_k5-8rUSCf",
        "outputId": "35c59f0e-9c1d-4feb-a3a7-b8f4c23d8acd"
      },
      "execution_count": 14,
      "outputs": [
        {
          "output_type": "stream",
          "name": "stdout",
          "text": [
            "RA2211042010036\n",
            "b is greater than a\n"
          ]
        }
      ]
    },
    {
      "cell_type": "code",
      "source": [
        "print(\"RA2211042010036\")\n",
        "num1 = float(input(\"enter 1st number: \"))\n",
        "num2 = float(input(\"enter 2nd number: \"))\n",
        "if num1>num2:\n",
        "  print(num1, \"is greater than\", num2)\n",
        "elif num2>num1:\n",
        "  print(num2 ,\"is greater than\", num1)\n",
        "else:\n",
        "  print(num1,\" is equal to\", num2)"
      ],
      "metadata": {
        "colab": {
          "base_uri": "https://localhost:8080/"
        },
        "id": "c1rD4D2rUa3K",
        "outputId": "24b54db0-daae-4927-a3db-f189ae7f5c7f"
      },
      "execution_count": 15,
      "outputs": [
        {
          "output_type": "stream",
          "name": "stdout",
          "text": [
            "RA2211042010036\n",
            "enter 1st number: 100\n",
            "enter 2nd number: 100\n",
            "100.0  is equal to 100.0\n"
          ]
        }
      ]
    },
    {
      "cell_type": "code",
      "source": [
        "print(\"RA2211042010036\")\n",
        "import random\n",
        "print(random.randint(0,6))"
      ],
      "metadata": {
        "colab": {
          "base_uri": "https://localhost:8080/"
        },
        "id": "1nSaLY0VUoJm",
        "outputId": "3ff3dd5a-44a1-4f9e-ca3c-2997fd1430b9"
      },
      "execution_count": 16,
      "outputs": [
        {
          "output_type": "stream",
          "name": "stdout",
          "text": [
            "RA2211042010036\n",
            "3\n"
          ]
        }
      ]
    },
    {
      "cell_type": "code",
      "source": [
        "print(\"RA2211042010036\")\n",
        "word = \"hello world\"\n",
        "times = 10\n",
        "for i in range(0,times):\n",
        "  print(word)"
      ],
      "metadata": {
        "colab": {
          "base_uri": "https://localhost:8080/"
        },
        "id": "JRuxzMk6Uxma",
        "outputId": "96fa76c5-ed46-434c-f04f-77a40374c35d"
      },
      "execution_count": 17,
      "outputs": [
        {
          "output_type": "stream",
          "name": "stdout",
          "text": [
            "RA2211042010036\n",
            "hello world\n",
            "hello world\n",
            "hello world\n",
            "hello world\n",
            "hello world\n",
            "hello world\n",
            "hello world\n",
            "hello world\n",
            "hello world\n",
            "hello world\n"
          ]
        }
      ]
    },
    {
      "cell_type": "code",
      "source": [
        "print(\"RA2211042010036\")\n",
        "word = str(input(\"enter the word: \"))\n",
        "times = int(input(\"enter no.of times: \"))\n",
        "for i in range(0,times):\n",
        "  print(word)"
      ],
      "metadata": {
        "colab": {
          "base_uri": "https://localhost:8080/"
        },
        "id": "_jOmOMOlUzZp",
        "outputId": "a0547ef3-aa46-427c-d3dd-3ec573215f32"
      },
      "execution_count": 18,
      "outputs": [
        {
          "output_type": "stream",
          "name": "stdout",
          "text": [
            "RA2211042010036\n",
            "enter the word: LOHITH\n",
            "enter no.of times: 5\n",
            "LOHITH\n",
            "LOHITH\n",
            "LOHITH\n",
            "LOHITH\n",
            "LOHITH\n"
          ]
        }
      ]
    },
    {
      "cell_type": "code",
      "source": [
        "A= \"HELLO\"\n",
        "B= \"5\"\n",
        "print(a+b)"
      ],
      "metadata": {
        "colab": {
          "base_uri": "https://localhost:8080/"
        },
        "id": "_Ek4iDFiVATk",
        "outputId": "9e5527a6-2301-433e-f095-2139f2f4404b"
      },
      "execution_count": 19,
      "outputs": [
        {
          "output_type": "stream",
          "name": "stdout",
          "text": [
            "150\n"
          ]
        }
      ]
    },
    {
      "cell_type": "code",
      "source": [
        "a=\"HELLO\"\n",
        "b=\"5\"\n",
        "print(a+b)"
      ],
      "metadata": {
        "colab": {
          "base_uri": "https://localhost:8080/"
        },
        "id": "C69CdwzzWFvz",
        "outputId": "0e005bbd-b58e-44ae-cd98-e5da6dfa93f2"
      },
      "execution_count": 20,
      "outputs": [
        {
          "output_type": "stream",
          "name": "stdout",
          "text": [
            "HELLO5\n"
          ]
        }
      ]
    },
    {
      "cell_type": "code",
      "source": [
        "a=\"HELLO\"\n",
        "b=5\n",
        "print(a*b)"
      ],
      "metadata": {
        "colab": {
          "base_uri": "https://localhost:8080/"
        },
        "id": "LvWrsjjQWOUC",
        "outputId": "609c2eb2-d78c-4698-9004-f44b9f084917"
      },
      "execution_count": 22,
      "outputs": [
        {
          "output_type": "stream",
          "name": "stdout",
          "text": [
            "HELLOHELLOHELLOHELLOHELLO\n"
          ]
        }
      ]
    },
    {
      "cell_type": "code",
      "source": [
        "celsius = 37.5\n",
        "fahrenheit = (celsius * 1.8) + 32\n",
        "print( celsius, \"degree Celsius is equal to\", fahrenheit, \"degree Fahrenheit\" )"
      ],
      "metadata": {
        "colab": {
          "base_uri": "https://localhost:8080/"
        },
        "id": "MSyHs0vFWW3h",
        "outputId": "f6eb0053-e54e-43dd-e666-dd46b012b5b8"
      },
      "execution_count": 23,
      "outputs": [
        {
          "output_type": "stream",
          "name": "stdout",
          "text": [
            "37.5 degree Celsius is equal to 99.5 degree Fahrenheit\n"
          ]
        }
      ]
    },
    {
      "cell_type": "code",
      "source": [
        "num = int(input(\"Enter a number: \"))\n",
        "if (num % 2) == 0:\n",
        "   print(num,\"is Even\")\n",
        "else:\n",
        "   print(num,\"is Odd\")"
      ],
      "metadata": {
        "colab": {
          "base_uri": "https://localhost:8080/"
        },
        "id": "4Umvi5LmYTV4",
        "outputId": "41dec45d-6f94-4a6d-c2b3-2f7c89763ac3"
      },
      "execution_count": 24,
      "outputs": [
        {
          "output_type": "stream",
          "name": "stdout",
          "text": [
            "Enter a number: 21\n",
            "21 is Odd\n"
          ]
        }
      ]
    },
    {
      "cell_type": "code",
      "source": [
        "num = float(input(\"Enter a number: \"))\n",
        "if num > 0:\n",
        "   print(\"Positive number\")\n",
        "elif num == 0:\n",
        "   print(\"Zero\")\n",
        "else:\n",
        "   print(\"Negative number\")"
      ],
      "metadata": {
        "colab": {
          "base_uri": "https://localhost:8080/"
        },
        "id": "rmUfWazyYozQ",
        "outputId": "0e3bc35c-348e-40d3-866f-e9ad61cf8bf1"
      },
      "execution_count": 25,
      "outputs": [
        {
          "output_type": "stream",
          "name": "stdout",
          "text": [
            "Enter a number: 50\n",
            "Positive number\n"
          ]
        }
      ]
    },
    {
      "cell_type": "code",
      "source": [],
      "metadata": {
        "id": "bSP5YD5yYz_a"
      },
      "execution_count": null,
      "outputs": []
    }
  ]
}